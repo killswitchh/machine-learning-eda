{
  "nbformat": 4,
  "nbformat_minor": 0,
  "metadata": {
    "colab": {
      "name": "Transfer Learning Own Dataset",
      "provenance": []
    },
    "kernelspec": {
      "name": "python3",
      "display_name": "Python 3"
    }
  },
  "cells": [
    {
      "cell_type": "code",
      "metadata": {
        "id": "A9dg3l2iA9d2",
        "colab_type": "code",
        "colab": {}
      },
      "source": [
        "# from google.colab import files\n",
        "# uploaded = files.upload()"
      ],
      "execution_count": 1,
      "outputs": []
    },
    {
      "cell_type": "code",
      "metadata": {
        "id": "mjvibVR5DcVL",
        "colab_type": "code",
        "colab": {}
      },
      "source": [
        "import numpy as np\n",
        "import matplotlib.pyplot as plt\n",
        "import h5py\n",
        "from PIL import Image\n",
        "from scipy import ndimage\n",
        "import os\n",
        "import io"
      ],
      "execution_count": 2,
      "outputs": []
    },
    {
      "cell_type": "code",
      "metadata": {
        "id": "xY4NHlM_PzjS",
        "colab_type": "code",
        "colab": {}
      },
      "source": [
        "from keras.applications.vgg16 import VGG16\n",
        "from keras.applications.vgg16 import preprocess_input\n",
        "\n",
        "from keras.preprocessing import image\n",
        "from keras.preprocessing.image import ImageDataGenerator\n",
        "\n",
        "from keras.models import Model, load_model\n",
        "\n",
        "from tensorflow.keras.callbacks import EarlyStopping\n",
        "from tensorflow.keras.layers import Dense, Dropout, Flatten, Conv2D, MaxPooling2D,Input\n",
        "\n",
        "from tensorflow.keras.utils import to_categorical\n",
        "from tensorflow.keras.models import Sequential\n",
        "\n",
        "from tensorflow.keras import optimizers"
      ],
      "execution_count": 3,
      "outputs": []
    },
    {
      "cell_type": "code",
      "metadata": {
        "id": "JkwGbWFPD5J2",
        "colab_type": "code",
        "colab": {}
      },
      "source": [
        "train_dataset = h5py.File('train_catvnoncat.h5' , 'r')\n",
        "train_features = np.array(train_dataset[\"train_set_x\"][:])\n",
        "train_labels = np.array(train_dataset[\"train_set_y\"][:])\n",
        "\n",
        "test_dataset = h5py.File('test_catvnoncat.h5', \"r\")\n",
        "test_features = np.array(test_dataset[\"test_set_x\"][:]) \n",
        "test_labels = np.array(test_dataset[\"test_set_y\"][:]) \n",
        "\n",
        "classes = ['not-cat' , 'cat']\n"
      ],
      "execution_count": 4,
      "outputs": []
    },
    {
      "cell_type": "code",
      "metadata": {
        "id": "CWFQ5tFmJzLT",
        "colab_type": "code",
        "colab": {
          "base_uri": "https://localhost:8080/",
          "height": 285
        },
        "outputId": "bddea767-4e98-48ac-bf20-b4707b515924"
      },
      "source": [
        "plt.imshow(train_features[2])"
      ],
      "execution_count": 5,
      "outputs": [
        {
          "output_type": "execute_result",
          "data": {
            "text/plain": [
              "<matplotlib.image.AxesImage at 0x7fdae2256a90>"
            ]
          },
          "metadata": {
            "tags": []
          },
          "execution_count": 5
        },
        {
          "output_type": "display_data",
          "data": {
            "image/png": "[encoded data removed]",
            "text/plain": [
              "<Figure size 432x288 with 1 Axes>"
            ]
          },
          "metadata": {
            "tags": [],
            "needs_background": "light"
          }
        }
      ]
    },
    {
      "cell_type": "code",
      "metadata": {
        "id": "ZZ-X3RlBOKzC",
        "colab_type": "code",
        "colab": {}
      },
      "source": [
        "train_labels = to_categorical(train_labels,2)\n",
        "test_labels = to_categorical(test_labels,2)"
      ],
      "execution_count": 6,
      "outputs": []
    },
    {
      "cell_type": "code",
      "metadata": {
        "id": "k0Osevp_J0Gn",
        "colab_type": "code",
        "colab": {
          "base_uri": "https://localhost:8080/",
          "height": 51
        },
        "outputId": "ad540b56-26d4-4292-f352-64de009525c0"
      },
      "source": [
        "print(train_features.shape)\n",
        "print(train_labels.shape)"
      ],
      "execution_count": 7,
      "outputs": [
        {
          "output_type": "stream",
          "text": [
            "(209, 64, 64, 3)\n",
            "(209, 2)\n"
          ],
          "name": "stdout"
        }
      ]
    },
    {
      "cell_type": "markdown",
      "metadata": {
        "id": "0izV4HYJ-ojb",
        "colab_type": "text"
      },
      "source": [
        "DEFINING GENERATOR\n"
      ]
    },
    {
      "cell_type": "code",
      "metadata": {
        "id": "UFxf7KXC1MxQ",
        "colab_type": "code",
        "colab": {}
      },
      "source": [
        "datagen = ImageDataGenerator(preprocessing_function=preprocess_input,\n",
        "        rotation_range=40,\n",
        "        width_shift_range=0.2,\n",
        "        height_shift_range=0.2,\n",
        "        shear_range=0.2,\n",
        "        zoom_range=0.2,\n",
        "        horizontal_flip=True,\n",
        "        fill_mode='nearest')"
      ],
      "execution_count": 8,
      "outputs": []
    },
    {
      "cell_type": "markdown",
      "metadata": {
        "id": "NiQVcA-O_tiv",
        "colab_type": "text"
      },
      "source": [
        "TRAINING SET GENERATOR"
      ]
    },
    {
      "cell_type": "code",
      "metadata": {
        "id": "8YML3xwk_2va",
        "colab_type": "code",
        "colab": {}
      },
      "source": [
        "train_generator = datagen.flow(train_features, train_labels)"
      ],
      "execution_count": 9,
      "outputs": []
    },
    {
      "cell_type": "markdown",
      "metadata": {
        "id": "9BJ2VahO_jpB",
        "colab_type": "text"
      },
      "source": [
        "VALIDATION SET GENERATOR"
      ]
    },
    {
      "cell_type": "code",
      "metadata": {
        "id": "f7uT3fGb_n_7",
        "colab_type": "code",
        "colab": {}
      },
      "source": [
        "test_generator = datagen.flow(test_features, test_labels)"
      ],
      "execution_count": 10,
      "outputs": []
    },
    {
      "cell_type": "markdown",
      "metadata": {
        "id": "d2mkFBCO766B",
        "colab_type": "text"
      },
      "source": [
        "GETTING VGG"
      ]
    },
    {
      "cell_type": "code",
      "metadata": {
        "id": "gkEuA3MsKCnS",
        "colab_type": "code",
        "colab": {}
      },
      "source": [
        "vgg_model=VGG16(include_top=False, weights='imagenet', input_shape=(64,64,3))"
      ],
      "execution_count": 13,
      "outputs": []
    },
    {
      "cell_type": "code",
      "metadata": {
        "id": "bXfVg5l2QH3I",
        "colab_type": "code",
        "colab": {}
      },
      "source": [
        "model = Sequential()\n",
        "for layer in vgg_model.layers[:-1]:\n",
        "    model.add(layer)"
      ],
      "execution_count": 14,
      "outputs": []
    },
    {
      "cell_type": "code",
      "metadata": {
        "id": "IKcbyB_fQQCy",
        "colab_type": "code",
        "colab": {}
      },
      "source": [
        "for layer in model.layers:\n",
        "    layer.trainable = False\n",
        "model.add(Flatten())\n",
        "model.add(Dense(units=2,activation='softmax'))"
      ],
      "execution_count": 15,
      "outputs": []
    },
    {
      "cell_type": "code",
      "metadata": {
        "id": "lBUVYQaJQUQz",
        "colab_type": "code",
        "colab": {}
      },
      "source": [
        "#model.summary()"
      ],
      "execution_count": 16,
      "outputs": []
    },
    {
      "cell_type": "markdown",
      "metadata": {
        "id": "mnie9_H879fm",
        "colab_type": "text"
      },
      "source": [
        "MODEL COMPILING"
      ]
    },
    {
      "cell_type": "code",
      "metadata": {
        "id": "oWIJQqsZAr6K",
        "colab_type": "code",
        "colab": {}
      },
      "source": [
        "opt = optimizers.Adam(learning_rate=0.01)"
      ],
      "execution_count": 17,
      "outputs": []
    },
    {
      "cell_type": "code",
      "metadata": {
        "id": "xyO5cS9kQjSx",
        "colab_type": "code",
        "colab": {
          "base_uri": "https://localhost:8080/",
          "height": 51
        },
        "outputId": "e5fbae99-56b5-442a-a4b3-d3b91152ee07"
      },
      "source": [
        "model.compile(optimizer = opt , loss='categorical_crossentropy' , metrics = ['accuracy'] )\n",
        "\n",
        "print(train_labels.shape)\n",
        "print(test_labels.shape)"
      ],
      "execution_count": 18,
      "outputs": [
        {
          "output_type": "stream",
          "text": [
            "(209, 2)\n",
            "(50, 2)\n"
          ],
          "name": "stdout"
        }
      ]
    },
    {
      "cell_type": "markdown",
      "metadata": {
        "id": "8BQJfG2K-gSC",
        "colab_type": "text"
      },
      "source": [
        "OUTPUT WITH DATA AUGMENTATION"
      ]
    },
    {
      "cell_type": "markdown",
      "metadata": {
        "id": "bCEOUFmECEVJ",
        "colab_type": "text"
      },
      "source": [
        ""
      ]
    },
    {
      "cell_type": "code",
      "metadata": {
        "id": "uyTmmpWCAzlr",
        "colab_type": "code",
        "colab": {
          "base_uri": "https://localhost:8080/",
          "height": 442
        },
        "outputId": "8cc028b0-0d33-4fb5-e780-87bd34d6d9db"
      },
      "source": [
        "model.fit(train_generator,epochs=12,verbose=1, steps_per_epoch=5 , validation_data=test_generator)"
      ],
      "execution_count": 19,
      "outputs": [
        {
          "output_type": "stream",
          "text": [
            "Epoch 1/12\n",
            "5/5 [==============================] - 7s 1s/step - loss: 12.6633 - accuracy: 0.7310 - val_loss: 6.9580 - val_accuracy: 0.9400\n",
            "Epoch 2/12\n",
            "5/5 [==============================] - 7s 1s/step - loss: 9.4129 - accuracy: 0.8621 - val_loss: 15.4900 - val_accuracy: 0.9400\n",
            "Epoch 3/12\n",
            "5/5 [==============================] - 7s 1s/step - loss: 1.1512 - accuracy: 0.9655 - val_loss: 15.5244 - val_accuracy: 0.9000\n",
            "Epoch 4/12\n",
            "5/5 [==============================] - 8s 2s/step - loss: 5.1733 - accuracy: 0.9625 - val_loss: 29.5314 - val_accuracy: 0.8800\n",
            "Epoch 5/12\n",
            "5/5 [==============================] - 7s 1s/step - loss: 4.4722 - accuracy: 0.9517 - val_loss: 44.1472 - val_accuracy: 0.8200\n",
            "Epoch 6/12\n",
            "5/5 [==============================] - 7s 1s/step - loss: 4.7095 - accuracy: 0.9563 - val_loss: 11.5184 - val_accuracy: 0.9200\n",
            "Epoch 7/12\n",
            "5/5 [==============================] - 7s 1s/step - loss: 2.8027 - accuracy: 0.9688 - val_loss: 28.1069 - val_accuracy: 0.8800\n",
            "Epoch 8/12\n",
            "5/5 [==============================] - 7s 1s/step - loss: 3.6609 - accuracy: 0.9724 - val_loss: 33.0834 - val_accuracy: 0.9000\n",
            "Epoch 9/12\n",
            "5/5 [==============================] - 7s 1s/step - loss: 9.3300 - accuracy: 0.9379 - val_loss: 23.8049 - val_accuracy: 0.8600\n",
            "Epoch 10/12\n",
            "5/5 [==============================] - 7s 1s/step - loss: 2.9939 - accuracy: 0.9812 - val_loss: 26.8793 - val_accuracy: 0.9200\n",
            "Epoch 11/12\n",
            "5/5 [==============================] - 7s 1s/step - loss: 1.9575 - accuracy: 0.9793 - val_loss: 40.2388 - val_accuracy: 0.9000\n",
            "Epoch 12/12\n",
            "5/5 [==============================] - 8s 2s/step - loss: 3.3154 - accuracy: 0.9688 - val_loss: 13.3851 - val_accuracy: 0.9000\n"
          ],
          "name": "stdout"
        },
        {
          "output_type": "execute_result",
          "data": {
            "text/plain": [
              "<tensorflow.python.keras.callbacks.History at 0x7fdae23314a8>"
            ]
          },
          "metadata": {
            "tags": []
          },
          "execution_count": 19
        }
      ]
    },
    {
      "cell_type": "code",
      "metadata": {
        "id": "eAnKBuPBKH7w",
        "colab_type": "code",
        "colab": {}
      },
      "source": [
        "model.save('data_augmented.h5')"
      ],
      "execution_count": 20,
      "outputs": []
    },
    {
      "cell_type": "markdown",
      "metadata": {
        "id": "ozctbW468BDv",
        "colab_type": "text"
      },
      "source": [
        "OUTPUT WHEN RAN WITHOUT DATA AUGMENTATION"
      ]
    },
    {
      "cell_type": "code",
      "metadata": {
        "id": "ERKvuVdJ9SPt",
        "colab_type": "code",
        "colab": {}
      },
      "source": [
        "#---------- THIS PROCESS REDUCES ACCURACY TO 60 % --------------\n",
        "# train_features = train_features / 255 \n",
        "# test_features = test_features / 255"
      ],
      "execution_count": 21,
      "outputs": []
    },
    {
      "cell_type": "code",
      "metadata": {
        "id": "5HqDdd4t8J_l",
        "colab_type": "code",
        "colab": {}
      },
      "source": [
        "train_features=preprocess_input(train_features)\n",
        "test_features=preprocess_input(test_features)"
      ],
      "execution_count": 22,
      "outputs": []
    },
    {
      "cell_type": "code",
      "metadata": {
        "id": "Gww_XQDL8L60",
        "colab_type": "code",
        "colab": {
          "base_uri": "https://localhost:8080/",
          "height": 170
        },
        "outputId": "8242b0e0-cba3-4e35-90a0-064460653713"
      },
      "source": [
        "model.fit(train_features,train_labels,epochs=4,verbose=1,batch_size=10, validation_data=(test_features,test_labels) , shuffle=True)"
      ],
      "execution_count": 23,
      "outputs": [
        {
          "output_type": "stream",
          "text": [
            "Epoch 1/4\n",
            "21/21 [==============================] - 11s 517ms/step - loss: 0.1998 - accuracy: 0.9904 - val_loss: 27.0801 - val_accuracy: 0.9200\n",
            "Epoch 2/4\n",
            "21/21 [==============================] - 11s 502ms/step - loss: 0.7341 - accuracy: 0.9904 - val_loss: 20.5748 - val_accuracy: 0.9200\n",
            "Epoch 3/4\n",
            "21/21 [==============================] - 10s 499ms/step - loss: 0.0000e+00 - accuracy: 1.0000 - val_loss: 20.5396 - val_accuracy: 0.9200\n",
            "Epoch 4/4\n",
            "21/21 [==============================] - 10s 499ms/step - loss: 0.0000e+00 - accuracy: 1.0000 - val_loss: 20.5360 - val_accuracy: 0.9200\n"
          ],
          "name": "stdout"
        },
        {
          "output_type": "execute_result",
          "data": {
            "text/plain": [
              "<tensorflow.python.keras.callbacks.History at 0x7fdad7efadd8>"
            ]
          },
          "metadata": {
            "tags": []
          },
          "execution_count": 23
        }
      ]
    },
    {
      "cell_type": "code",
      "metadata": {
        "id": "kTQAGiDlKF3b",
        "colab_type": "code",
        "colab": {}
      },
      "source": [
        "model.save('regular.h5')"
      ],
      "execution_count": 24,
      "outputs": []
    },
    {
      "cell_type": "markdown",
      "metadata": {
        "id": "ndWQzewOLSVf",
        "colab_type": "text"
      },
      "source": [
        "LOADING THE MODEL"
      ]
    },
    {
      "cell_type": "code",
      "metadata": {
        "id": "dCQ6gYLoLGiA",
        "colab_type": "code",
        "colab": {}
      },
      "source": [],
      "execution_count": 53,
      "outputs": []
    },
    {
      "cell_type": "code",
      "metadata": {
        "id": "Js2q9NbbM01v",
        "colab_type": "code",
        "colab": {}
      },
      "source": [
        "from tensorflow.keras.preprocessing.image import load_img,img_to_array\n",
        "from tensorflow.keras.applications.vgg16 import preprocess_input\n",
        "from tensorflow.keras.models import Model, load_model\n",
        "\n",
        "import cv2\n",
        "import numpy as np\n"
      ],
      "execution_count": 1,
      "outputs": []
    },
    {
      "cell_type": "code",
      "metadata": {
        "id": "HaUUHntXM4wu",
        "colab_type": "code",
        "colab": {}
      },
      "source": [
        "# IMAGE PREPROCESSING\n",
        "def preprocess_image(name):\n",
        "    # img = cv2.imread(name)\n",
        "    img = load_img(name, target_size=(64,64))\n",
        "    res = img_to_array(img)\n",
        "    # res = cv2.resize(img, dsize=(64, 64), interpolation=cv2.INTER_CUBIC)\n",
        "    preprocessed_image = preprocess_input(img)\n",
        "    samples = np.expand_dims(preprocessed_image, 0)\n",
        "\n",
        "    return samples"
      ],
      "execution_count": 11,
      "outputs": []
    },
    {
      "cell_type": "code",
      "metadata": {
        "id": "e5F1YqEOQoJY",
        "colab_type": "code",
        "colab": {}
      },
      "source": [
        "image = preprocess_image('cat.png')\n",
        "image2 = preprocess_image('not_cat.png')"
      ],
      "execution_count": 12,
      "outputs": [
        {
          "output_type": "error",
          "ename": "TypeError",
          "evalue": "'Image' object is not subscriptable",
          "traceback": [
            "\u001b[1;31m---------------------------------------------------------------------------\u001b[0m",
            "\u001b[1;31mTypeError\u001b[0m                                 Traceback (most recent call last)",
            "\u001b[1;32m<ipython-input-12-e5f74385cc4d>\u001b[0m in \u001b[0;36m<module>\u001b[1;34m\u001b[0m\n\u001b[1;32m----> 1\u001b[1;33m \u001b[0mimage\u001b[0m \u001b[1;33m=\u001b[0m \u001b[0mpreprocess_image\u001b[0m\u001b[1;33m(\u001b[0m\u001b[1;34m'cat.png'\u001b[0m\u001b[1;33m)\u001b[0m\u001b[1;33m\u001b[0m\u001b[1;33m\u001b[0m\u001b[0m\n\u001b[0m\u001b[0;32m      2\u001b[0m \u001b[0mimage2\u001b[0m \u001b[1;33m=\u001b[0m \u001b[0mpreprocess_image\u001b[0m\u001b[1;33m(\u001b[0m\u001b[1;34m'not_cat.png'\u001b[0m\u001b[1;33m)\u001b[0m\u001b[1;33m\u001b[0m\u001b[1;33m\u001b[0m\u001b[0m\n",
            "\u001b[1;32m<ipython-input-11-fde8f8ba6337>\u001b[0m in \u001b[0;36mpreprocess_image\u001b[1;34m(name)\u001b[0m\n\u001b[0;32m      5\u001b[0m     \u001b[1;31m# res = img_to_array(img)\u001b[0m\u001b[1;33m\u001b[0m\u001b[1;33m\u001b[0m\u001b[1;33m\u001b[0m\u001b[0m\n\u001b[0;32m      6\u001b[0m     \u001b[1;31m# res = cv2.resize(img, dsize=(64, 64), interpolation=cv2.INTER_CUBIC)\u001b[0m\u001b[1;33m\u001b[0m\u001b[1;33m\u001b[0m\u001b[1;33m\u001b[0m\u001b[0m\n\u001b[1;32m----> 7\u001b[1;33m     \u001b[0mpreprocessed_image\u001b[0m \u001b[1;33m=\u001b[0m \u001b[0mpreprocess_input\u001b[0m\u001b[1;33m(\u001b[0m\u001b[0mimg\u001b[0m\u001b[1;33m)\u001b[0m\u001b[1;33m\u001b[0m\u001b[1;33m\u001b[0m\u001b[0m\n\u001b[0m\u001b[0;32m      8\u001b[0m     \u001b[0msamples\u001b[0m \u001b[1;33m=\u001b[0m \u001b[0mnp\u001b[0m\u001b[1;33m.\u001b[0m\u001b[0mexpand_dims\u001b[0m\u001b[1;33m(\u001b[0m\u001b[0mpreprocessed_image\u001b[0m\u001b[1;33m,\u001b[0m \u001b[1;36m0\u001b[0m\u001b[1;33m)\u001b[0m\u001b[1;33m\u001b[0m\u001b[1;33m\u001b[0m\u001b[0m\n\u001b[0;32m      9\u001b[0m \u001b[1;33m\u001b[0m\u001b[0m\n",
            "\u001b[1;32m~\\AppData\\Roaming\\Python\\Python38\\site-packages\\tensorflow\\python\\keras\\applications\\vgg16.py\u001b[0m in \u001b[0;36mpreprocess_input\u001b[1;34m(x, data_format)\u001b[0m\n\u001b[0;32m    228\u001b[0m \u001b[1;33m@\u001b[0m\u001b[0mkeras_export\u001b[0m\u001b[1;33m(\u001b[0m\u001b[1;34m'keras.applications.vgg16.preprocess_input'\u001b[0m\u001b[1;33m)\u001b[0m\u001b[1;33m\u001b[0m\u001b[1;33m\u001b[0m\u001b[0m\n\u001b[0;32m    229\u001b[0m \u001b[1;32mdef\u001b[0m \u001b[0mpreprocess_input\u001b[0m\u001b[1;33m(\u001b[0m\u001b[0mx\u001b[0m\u001b[1;33m,\u001b[0m \u001b[0mdata_format\u001b[0m\u001b[1;33m=\u001b[0m\u001b[1;32mNone\u001b[0m\u001b[1;33m)\u001b[0m\u001b[1;33m:\u001b[0m\u001b[1;33m\u001b[0m\u001b[1;33m\u001b[0m\u001b[0m\n\u001b[1;32m--> 230\u001b[1;33m   return imagenet_utils.preprocess_input(\n\u001b[0m\u001b[0;32m    231\u001b[0m       x, data_format=data_format, mode='caffe')\n\u001b[0;32m    232\u001b[0m \u001b[1;33m\u001b[0m\u001b[0m\n",
            "\u001b[1;32m~\\AppData\\Roaming\\Python\\Python38\\site-packages\\tensorflow\\python\\keras\\applications\\imagenet_utils.py\u001b[0m in \u001b[0;36mpreprocess_input\u001b[1;34m(x, data_format, mode)\u001b[0m\n\u001b[0;32m    116\u001b[0m         x, data_format=data_format, mode=mode)\n\u001b[0;32m    117\u001b[0m   \u001b[1;32melse\u001b[0m\u001b[1;33m:\u001b[0m\u001b[1;33m\u001b[0m\u001b[1;33m\u001b[0m\u001b[0m\n\u001b[1;32m--> 118\u001b[1;33m     return _preprocess_symbolic_input(\n\u001b[0m\u001b[0;32m    119\u001b[0m         x, data_format=data_format, mode=mode)\n\u001b[0;32m    120\u001b[0m \u001b[1;33m\u001b[0m\u001b[0m\n",
            "\u001b[1;32m~\\AppData\\Roaming\\Python\\Python38\\site-packages\\tensorflow\\python\\keras\\applications\\imagenet_utils.py\u001b[0m in \u001b[0;36m_preprocess_symbolic_input\u001b[1;34m(x, data_format, mode)\u001b[0m\n\u001b[0;32m    277\u001b[0m     \u001b[1;32melse\u001b[0m\u001b[1;33m:\u001b[0m\u001b[1;33m\u001b[0m\u001b[1;33m\u001b[0m\u001b[0m\n\u001b[0;32m    278\u001b[0m       \u001b[1;31m# 'RGB'->'BGR'\u001b[0m\u001b[1;33m\u001b[0m\u001b[1;33m\u001b[0m\u001b[1;33m\u001b[0m\u001b[0m\n\u001b[1;32m--> 279\u001b[1;33m       \u001b[0mx\u001b[0m \u001b[1;33m=\u001b[0m \u001b[0mx\u001b[0m\u001b[1;33m[\u001b[0m\u001b[1;33m...\u001b[0m\u001b[1;33m,\u001b[0m \u001b[1;33m:\u001b[0m\u001b[1;33m:\u001b[0m\u001b[1;33m-\u001b[0m\u001b[1;36m1\u001b[0m\u001b[1;33m]\u001b[0m\u001b[1;33m\u001b[0m\u001b[1;33m\u001b[0m\u001b[0m\n\u001b[0m\u001b[0;32m    280\u001b[0m     \u001b[0mmean\u001b[0m \u001b[1;33m=\u001b[0m \u001b[1;33m[\u001b[0m\u001b[1;36m103.939\u001b[0m\u001b[1;33m,\u001b[0m \u001b[1;36m116.779\u001b[0m\u001b[1;33m,\u001b[0m \u001b[1;36m123.68\u001b[0m\u001b[1;33m]\u001b[0m\u001b[1;33m\u001b[0m\u001b[1;33m\u001b[0m\u001b[0m\n\u001b[0;32m    281\u001b[0m     \u001b[0mstd\u001b[0m \u001b[1;33m=\u001b[0m \u001b[1;32mNone\u001b[0m\u001b[1;33m\u001b[0m\u001b[1;33m\u001b[0m\u001b[0m\n",
            "\u001b[1;31mTypeError\u001b[0m: 'Image' object is not subscriptable"
          ]
        }
      ]
    },
    {
      "cell_type": "code",
      "execution_count": 4,
      "metadata": {},
      "outputs": [],
      "source": [
        "reconstructed_model = load_model(\"data_augmented.h5\")"
      ]
    },
    {
      "cell_type": "code",
      "metadata": {
        "id": "aQX-WsVONPMI",
        "colab_type": "code",
        "colab": {}
      },
      "source": [
        "prediction1 = reconstructed_model.predict(image)\n",
        "prediction2 = reconstructed_model.predict(image2)\n"
      ],
      "execution_count": 5,
      "outputs": []
    },
    {
      "cell_type": "code",
      "execution_count": 6,
      "metadata": {
        "tags": []
      },
      "outputs": [
        {
          "output_type": "stream",
          "name": "stdout",
          "text": "[[0. 1.]] [[1. 0.]]\n"
        }
      ],
      "source": [
        "print(prediction1,prediction2)"
      ]
    },
    {
      "cell_type": "code",
      "execution_count": null,
      "metadata": {},
      "outputs": [],
      "source": []
    }
  ]
}