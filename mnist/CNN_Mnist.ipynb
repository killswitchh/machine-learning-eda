{
  "nbformat": 4,
  "nbformat_minor": 0,
  "metadata": {
    "colab": {
      "name": "CNN Mnist.ipynb",
      "provenance": []
    },
    "kernelspec": {
      "name": "python3",
      "display_name": "Python 3"
    },
    "accelerator": "GPU"
  },
  "cells": [
    {
      "cell_type": "code",
      "metadata": {
        "id": "1d9-aQTmbB6C",
        "colab_type": "code",
        "colab": {
          "base_uri": "https://localhost:8080/",
          "height": 85
        },
        "outputId": "4d74a72a-d1d8-40ce-ec05-2635e0dc44c5"
      },
      "source": [
        "import tensorflow.keras\n",
        "from tensorflow.keras.callbacks import EarlyStopping\n",
        "from tensorflow.keras.layers import Dense, Dropout, Flatten, Conv2D, MaxPooling2D,Input\n",
        "from tensorflow.keras import regularizers\n",
        "from tensorflow.keras.datasets import mnist\n",
        "from tensorflow.keras.utils import to_categorical\n",
        "from tensorflow.keras.models import Sequential\n",
        "from tensorflow.keras import backend as K\n",
        "\n",
        "(x_train, y_train) , (x_test,y_test) = mnist.load_data()\n",
        "print(\"shape of x_train\",x_train.shape)\n",
        "print(\"shape of y_train\",y_train.shape)\n",
        "print(\"shape of x_test\",x_test.shape)\n",
        "print(\"shape of y_test\",y_test.shape)"
      ],
      "execution_count": 1,
      "outputs": [
        {
          "output_type": "stream",
          "text": [
            "shape of x_train (60000, 28, 28)\n",
            "shape of y_train (60000,)\n",
            "shape of x_test (10000, 28, 28)\n",
            "shape of y_test (10000,)\n"
          ],
          "name": "stdout"
        }
      ]
    },
    {
      "cell_type": "code",
      "metadata": {
        "id": "S2wf8FGBcfBA",
        "colab_type": "code",
        "colab": {
          "base_uri": "https://localhost:8080/",
          "height": 493
        },
        "outputId": "bb4d3a10-6e52-40be-ec37-b5f8477437d5"
      },
      "source": [
        "import numpy as np\n",
        "import pandas as pd\n",
        "import matplotlib.pyplot as plt\n",
        "\n",
        "np.set_printoptions(linewidth = 200)\n",
        "pd.options.display.max_rows = 10\n",
        "pd.options.display.float_format = \"{:.1f}\".format\n",
        "\n",
        "print(x_train[0])"
      ],
      "execution_count": 2,
      "outputs": [
        {
          "output_type": "stream",
          "text": [
            "[[  0   0   0   0   0   0   0   0   0   0   0   0   0   0   0   0   0   0   0   0   0   0   0   0   0   0   0   0]\n",
            " [  0   0   0   0   0   0   0   0   0   0   0   0   0   0   0   0   0   0   0   0   0   0   0   0   0   0   0   0]\n",
            " [  0   0   0   0   0   0   0   0   0   0   0   0   0   0   0   0   0   0   0   0   0   0   0   0   0   0   0   0]\n",
            " [  0   0   0   0   0   0   0   0   0   0   0   0   0   0   0   0   0   0   0   0   0   0   0   0   0   0   0   0]\n",
            " [  0   0   0   0   0   0   0   0   0   0   0   0   0   0   0   0   0   0   0   0   0   0   0   0   0   0   0   0]\n",
            " [  0   0   0   0   0   0   0   0   0   0   0   0   3  18  18  18 126 136 175  26 166 255 247 127   0   0   0   0]\n",
            " [  0   0   0   0   0   0   0   0  30  36  94 154 170 253 253 253 253 253 225 172 253 242 195  64   0   0   0   0]\n",
            " [  0   0   0   0   0   0   0  49 238 253 253 253 253 253 253 253 253 251  93  82  82  56  39   0   0   0   0   0]\n",
            " [  0   0   0   0   0   0   0  18 219 253 253 253 253 253 198 182 247 241   0   0   0   0   0   0   0   0   0   0]\n",
            " [  0   0   0   0   0   0   0   0  80 156 107 253 253 205  11   0  43 154   0   0   0   0   0   0   0   0   0   0]\n",
            " [  0   0   0   0   0   0   0   0   0  14   1 154 253  90   0   0   0   0   0   0   0   0   0   0   0   0   0   0]\n",
            " [  0   0   0   0   0   0   0   0   0   0   0 139 253 190   2   0   0   0   0   0   0   0   0   0   0   0   0   0]\n",
            " [  0   0   0   0   0   0   0   0   0   0   0  11 190 253  70   0   0   0   0   0   0   0   0   0   0   0   0   0]\n",
            " [  0   0   0   0   0   0   0   0   0   0   0   0  35 241 225 160 108   1   0   0   0   0   0   0   0   0   0   0]\n",
            " [  0   0   0   0   0   0   0   0   0   0   0   0   0  81 240 253 253 119  25   0   0   0   0   0   0   0   0   0]\n",
            " [  0   0   0   0   0   0   0   0   0   0   0   0   0   0  45 186 253 253 150  27   0   0   0   0   0   0   0   0]\n",
            " [  0   0   0   0   0   0   0   0   0   0   0   0   0   0   0  16  93 252 253 187   0   0   0   0   0   0   0   0]\n",
            " [  0   0   0   0   0   0   0   0   0   0   0   0   0   0   0   0   0 249 253 249  64   0   0   0   0   0   0   0]\n",
            " [  0   0   0   0   0   0   0   0   0   0   0   0   0   0  46 130 183 253 253 207   2   0   0   0   0   0   0   0]\n",
            " [  0   0   0   0   0   0   0   0   0   0   0   0  39 148 229 253 253 253 250 182   0   0   0   0   0   0   0   0]\n",
            " [  0   0   0   0   0   0   0   0   0   0  24 114 221 253 253 253 253 201  78   0   0   0   0   0   0   0   0   0]\n",
            " [  0   0   0   0   0   0   0   0  23  66 213 253 253 253 253 198  81   2   0   0   0   0   0   0   0   0   0   0]\n",
            " [  0   0   0   0   0   0  18 171 219 253 253 253 253 195  80   9   0   0   0   0   0   0   0   0   0   0   0   0]\n",
            " [  0   0   0   0  55 172 226 253 253 253 253 244 133  11   0   0   0   0   0   0   0   0   0   0   0   0   0   0]\n",
            " [  0   0   0   0 136 253 253 253 212 135 132  16   0   0   0   0   0   0   0   0   0   0   0   0   0   0   0   0]\n",
            " [  0   0   0   0   0   0   0   0   0   0   0   0   0   0   0   0   0   0   0   0   0   0   0   0   0   0   0   0]\n",
            " [  0   0   0   0   0   0   0   0   0   0   0   0   0   0   0   0   0   0   0   0   0   0   0   0   0   0   0   0]\n",
            " [  0   0   0   0   0   0   0   0   0   0   0   0   0   0   0   0   0   0   0   0   0   0   0   0   0   0   0   0]]\n"
          ],
          "name": "stdout"
        }
      ]
    },
    {
      "cell_type": "code",
      "metadata": {
        "id": "MAQpbcmceJEx",
        "colab_type": "code",
        "colab": {}
      },
      "source": [
        "#reshaping\n",
        "img_rows, img_cols = 28, 28\n",
        "if K.image_data_format() == 'channels_first':\n",
        "    x_train = x_train.reshape(x_train.shape[0], 1, img_rows, img_cols)\n",
        "    x_test = x_test.reshape(x_test.shape[0], 1, img_rows, img_cols)\n",
        "    input_shape = (1, img_rows, img_cols)\n",
        "else:\n",
        "    x_train = x_train.reshape(x_train.shape[0], img_rows, img_cols, 1)\n",
        "    x_test = x_test.reshape(x_test.shape[0], img_rows, img_cols, 1)\n",
        "    input_shape = (img_rows, img_cols, 1)\n",
        "\n",
        "# x_train , x_test = np.expand_dims(x_train, axis =-1) , np.expand_dims(x_test,axis =-1)"
      ],
      "execution_count": 3,
      "outputs": []
    },
    {
      "cell_type": "code",
      "metadata": {
        "id": "lAwXaEANfu8w",
        "colab_type": "code",
        "colab": {
          "base_uri": "https://localhost:8080/",
          "height": 85
        },
        "outputId": "32ca2dbd-e1ed-4b5d-a2fc-bab3010d5e63"
      },
      "source": [
        "print(\"shape of x_train\",x_train.shape)\n",
        "print(\"shape of y_train\",y_train.shape)\n",
        "print(\"shape of x_test\",x_test.shape)\n",
        "print(\"shape of y_test\",y_test.shape)"
      ],
      "execution_count": 4,
      "outputs": [
        {
          "output_type": "stream",
          "text": [
            "shape of x_train (60000, 28, 28, 1)\n",
            "shape of y_train (60000,)\n",
            "shape of x_test (10000, 28, 28, 1)\n",
            "shape of y_test (10000,)\n"
          ],
          "name": "stdout"
        }
      ]
    },
    {
      "cell_type": "code",
      "metadata": {
        "id": "B46wVG4Yf0n4",
        "colab_type": "code",
        "colab": {
          "base_uri": "https://localhost:8080/",
          "height": 85
        },
        "outputId": "3174c18e-8240-42d9-da2e-1b6c269ca231"
      },
      "source": [
        "x_train = x_train.astype('float32')\n",
        "x_test = x_test.astype('float32')\n",
        "x_train = x_train / 255\n",
        "x_test  = x_test  / 255\n",
        "\n",
        "print(\"shape of x_train\",x_train.shape)\n",
        "print(\"shape of y_train\",y_train.shape)\n",
        "print(\"shape of x_test\",x_test.shape)\n",
        "print(\"shape of y_test\",y_test.shape)"
      ],
      "execution_count": 5,
      "outputs": [
        {
          "output_type": "stream",
          "text": [
            "shape of x_train (60000, 28, 28, 1)\n",
            "shape of y_train (60000,)\n",
            "shape of x_test (10000, 28, 28, 1)\n",
            "shape of y_test (10000,)\n"
          ],
          "name": "stdout"
        }
      ]
    },
    {
      "cell_type": "code",
      "metadata": {
        "id": "gzMdQEhbh9gq",
        "colab_type": "code",
        "colab": {}
      },
      "source": [
        "batch_size = 128\n",
        "num_classes = 10\n",
        "epochs = 12\n",
        "\n",
        "y_train = to_categorical(y_train,num_classes)\n",
        "y_test = to_categorical(y_test,num_classes)"
      ],
      "execution_count": 6,
      "outputs": []
    },
    {
      "cell_type": "code",
      "metadata": {
        "id": "fweRLFAujOnY",
        "colab_type": "code",
        "colab": {}
      },
      "source": [
        "#without max_pooling\n",
        "\n",
        "model = Sequential()\n",
        "model.add(Conv2D(32, kernel_size=(3, 3),\n",
        "                 activation='relu',\n",
        "                 input_shape=input_shape))  #conv_layer\n",
        "model.add(Flatten()) #flatten layer\n",
        "model.add(Dense(num_classes, activation='softmax')) #output\n",
        "model.compile(loss='categorical_crossentropy', optimizer='adam',\n",
        "              metrics=['accuracy'])"
      ],
      "execution_count": 7,
      "outputs": []
    },
    {
      "cell_type": "code",
      "metadata": {
        "id": "nMQ4TtawjruF",
        "colab_type": "code",
        "colab": {
          "base_uri": "https://localhost:8080/",
          "height": 255
        },
        "outputId": "70bdebae-98eb-4f87-d1c6-ebfb066ca384"
      },
      "source": [
        "model.summary()"
      ],
      "execution_count": 8,
      "outputs": [
        {
          "output_type": "stream",
          "text": [
            "Model: \"sequential\"\n",
            "_________________________________________________________________\n",
            "Layer (type)                 Output Shape              Param #   \n",
            "=================================================================\n",
            "conv2d (Conv2D)              (None, 26, 26, 32)        320       \n",
            "_________________________________________________________________\n",
            "flatten (Flatten)            (None, 21632)             0         \n",
            "_________________________________________________________________\n",
            "dense (Dense)                (None, 10)                216330    \n",
            "=================================================================\n",
            "Total params: 216,650\n",
            "Trainable params: 216,650\n",
            "Non-trainable params: 0\n",
            "_________________________________________________________________\n"
          ],
          "name": "stdout"
        }
      ]
    },
    {
      "cell_type": "code",
      "metadata": {
        "id": "cJuLH0KMjt3S",
        "colab_type": "code",
        "colab": {
          "base_uri": "https://localhost:8080/",
          "height": 425
        },
        "outputId": "1a472388-7b23-4c58-912d-e0c0cabdddbc"
      },
      "source": [
        "model.fit(x_train , y_train , batch_size=batch_size, epochs=epochs, verbose = 2, validation_data=(x_test,y_test))\n",
        "score = model.evaluate(x_test,y_test,verbose = 0)\n"
      ],
      "execution_count": 9,
      "outputs": [
        {
          "output_type": "stream",
          "text": [
            "Epoch 1/12\n",
            "469/469 - 1s - loss: 0.2633 - accuracy: 0.9253 - val_loss: 0.1215 - val_accuracy: 0.9660\n",
            "Epoch 2/12\n",
            "469/469 - 1s - loss: 0.0945 - accuracy: 0.9735 - val_loss: 0.0784 - val_accuracy: 0.9754\n",
            "Epoch 3/12\n",
            "469/469 - 1s - loss: 0.0669 - accuracy: 0.9804 - val_loss: 0.0721 - val_accuracy: 0.9772\n",
            "Epoch 4/12\n",
            "469/469 - 1s - loss: 0.0525 - accuracy: 0.9849 - val_loss: 0.0649 - val_accuracy: 0.9792\n",
            "Epoch 5/12\n",
            "469/469 - 1s - loss: 0.0437 - accuracy: 0.9871 - val_loss: 0.0627 - val_accuracy: 0.9808\n",
            "Epoch 6/12\n",
            "469/469 - 1s - loss: 0.0358 - accuracy: 0.9891 - val_loss: 0.0577 - val_accuracy: 0.9823\n",
            "Epoch 7/12\n",
            "469/469 - 1s - loss: 0.0316 - accuracy: 0.9900 - val_loss: 0.0608 - val_accuracy: 0.9812\n",
            "Epoch 8/12\n",
            "469/469 - 1s - loss: 0.0262 - accuracy: 0.9921 - val_loss: 0.0648 - val_accuracy: 0.9813\n",
            "Epoch 9/12\n",
            "469/469 - 1s - loss: 0.0231 - accuracy: 0.9932 - val_loss: 0.0643 - val_accuracy: 0.9814\n",
            "Epoch 10/12\n",
            "469/469 - 1s - loss: 0.0196 - accuracy: 0.9946 - val_loss: 0.0635 - val_accuracy: 0.9823\n",
            "Epoch 11/12\n",
            "469/469 - 1s - loss: 0.0166 - accuracy: 0.9953 - val_loss: 0.0687 - val_accuracy: 0.9805\n",
            "Epoch 12/12\n",
            "469/469 - 1s - loss: 0.0145 - accuracy: 0.9959 - val_loss: 0.0726 - val_accuracy: 0.9792\n"
          ],
          "name": "stdout"
        }
      ]
    },
    {
      "cell_type": "code",
      "metadata": {
        "id": "zRwt41jikAtY",
        "colab_type": "code",
        "colab": {}
      },
      "source": [
        "#adding max_pooling\n",
        "\n",
        "model = Sequential()\n",
        "model.add(Conv2D(32, kernel_size=(3, 3),\n",
        "                 activation='relu',\n",
        "                 input_shape=input_shape))\n",
        "model.add(MaxPooling2D(pool_size=(2, 2))) # max_pooling\n",
        "model.add(Flatten())\n",
        "model.add(Dense(num_classes, activation='softmax'))\n",
        "model.compile(loss='categorical_crossentropy', optimizer='adam',\n",
        "              metrics=['accuracy'])"
      ],
      "execution_count": 10,
      "outputs": []
    },
    {
      "cell_type": "code",
      "metadata": {
        "id": "ymld2KD7mW1R",
        "colab_type": "code",
        "colab": {
          "base_uri": "https://localhost:8080/",
          "height": 289
        },
        "outputId": "b6a9586c-cb13-4751-d506-0e0e7ab0fde0"
      },
      "source": [
        "model.summary()"
      ],
      "execution_count": 11,
      "outputs": [
        {
          "output_type": "stream",
          "text": [
            "Model: \"sequential_1\"\n",
            "_________________________________________________________________\n",
            "Layer (type)                 Output Shape              Param #   \n",
            "=================================================================\n",
            "conv2d_1 (Conv2D)            (None, 26, 26, 32)        320       \n",
            "_________________________________________________________________\n",
            "max_pooling2d (MaxPooling2D) (None, 13, 13, 32)        0         \n",
            "_________________________________________________________________\n",
            "flatten_1 (Flatten)          (None, 5408)              0         \n",
            "_________________________________________________________________\n",
            "dense_1 (Dense)              (None, 10)                54090     \n",
            "=================================================================\n",
            "Total params: 54,410\n",
            "Trainable params: 54,410\n",
            "Non-trainable params: 0\n",
            "_________________________________________________________________\n"
          ],
          "name": "stdout"
        }
      ]
    },
    {
      "cell_type": "code",
      "metadata": {
        "id": "FFbEMH_BmhOh",
        "colab_type": "code",
        "colab": {
          "base_uri": "https://localhost:8080/",
          "height": 425
        },
        "outputId": "884ac5b4-0c0f-4aa0-c876-77e9c4bc8061"
      },
      "source": [
        "model.fit(x_train , y_train , batch_size=batch_size, epochs=epochs, verbose = 2, validation_data=(x_test,y_test))\n",
        "score = model.evaluate(x_test,y_test,verbose = 0)"
      ],
      "execution_count": 12,
      "outputs": [
        {
          "output_type": "stream",
          "text": [
            "Epoch 1/12\n",
            "469/469 - 1s - loss: 0.3389 - accuracy: 0.9092 - val_loss: 0.1406 - val_accuracy: 0.9601\n",
            "Epoch 2/12\n",
            "469/469 - 1s - loss: 0.1138 - accuracy: 0.9684 - val_loss: 0.0857 - val_accuracy: 0.9745\n",
            "Epoch 3/12\n",
            "469/469 - 1s - loss: 0.0805 - accuracy: 0.9778 - val_loss: 0.0695 - val_accuracy: 0.9773\n",
            "Epoch 4/12\n",
            "469/469 - 1s - loss: 0.0656 - accuracy: 0.9815 - val_loss: 0.0653 - val_accuracy: 0.9800\n",
            "Epoch 5/12\n",
            "469/469 - 1s - loss: 0.0566 - accuracy: 0.9839 - val_loss: 0.0570 - val_accuracy: 0.9813\n",
            "Epoch 6/12\n",
            "469/469 - 1s - loss: 0.0505 - accuracy: 0.9859 - val_loss: 0.0618 - val_accuracy: 0.9804\n",
            "Epoch 7/12\n",
            "469/469 - 1s - loss: 0.0462 - accuracy: 0.9863 - val_loss: 0.0533 - val_accuracy: 0.9820\n",
            "Epoch 8/12\n",
            "469/469 - 1s - loss: 0.0419 - accuracy: 0.9877 - val_loss: 0.0537 - val_accuracy: 0.9823\n",
            "Epoch 9/12\n",
            "469/469 - 1s - loss: 0.0378 - accuracy: 0.9891 - val_loss: 0.0523 - val_accuracy: 0.9827\n",
            "Epoch 10/12\n",
            "469/469 - 1s - loss: 0.0351 - accuracy: 0.9896 - val_loss: 0.0535 - val_accuracy: 0.9834\n",
            "Epoch 11/12\n",
            "469/469 - 1s - loss: 0.0333 - accuracy: 0.9899 - val_loss: 0.0532 - val_accuracy: 0.9831\n",
            "Epoch 12/12\n",
            "469/469 - 1s - loss: 0.0298 - accuracy: 0.9914 - val_loss: 0.0542 - val_accuracy: 0.9831\n"
          ],
          "name": "stdout"
        }
      ]
    },
    {
      "cell_type": "code",
      "metadata": {
        "id": "S8QNajqLmVg0",
        "colab_type": "code",
        "colab": {}
      },
      "source": [
        "#adding dropout layer\n",
        "model = Sequential()\n",
        "model.add(Conv2D(32, kernel_size=(3, 3),\n",
        "                 activation='relu',\n",
        "                 input_shape=input_shape))\n",
        "\n",
        "model.add(MaxPooling2D(pool_size=(2, 2)))\n",
        "model.add(Dropout(0.25))\n",
        "model.add(Flatten())\n",
        "model.add(Dense(num_classes, activation='softmax'))\n",
        "model.compile(loss='categorical_crossentropy', optimizer='adam',\n",
        "              metrics=['accuracy'])"
      ],
      "execution_count": 13,
      "outputs": []
    },
    {
      "cell_type": "code",
      "metadata": {
        "id": "M5OtQ3lAm1mv",
        "colab_type": "code",
        "colab": {
          "base_uri": "https://localhost:8080/",
          "height": 323
        },
        "outputId": "a7ad6aa0-6b53-4999-e36b-689bcde663ff"
      },
      "source": [
        "model.summary()"
      ],
      "execution_count": 14,
      "outputs": [
        {
          "output_type": "stream",
          "text": [
            "Model: \"sequential_2\"\n",
            "_________________________________________________________________\n",
            "Layer (type)                 Output Shape              Param #   \n",
            "=================================================================\n",
            "conv2d_2 (Conv2D)            (None, 26, 26, 32)        320       \n",
            "_________________________________________________________________\n",
            "max_pooling2d_1 (MaxPooling2 (None, 13, 13, 32)        0         \n",
            "_________________________________________________________________\n",
            "dropout (Dropout)            (None, 13, 13, 32)        0         \n",
            "_________________________________________________________________\n",
            "flatten_2 (Flatten)          (None, 5408)              0         \n",
            "_________________________________________________________________\n",
            "dense_2 (Dense)              (None, 10)                54090     \n",
            "=================================================================\n",
            "Total params: 54,410\n",
            "Trainable params: 54,410\n",
            "Non-trainable params: 0\n",
            "_________________________________________________________________\n"
          ],
          "name": "stdout"
        }
      ]
    },
    {
      "cell_type": "code",
      "metadata": {
        "id": "3kWo-cnSm4HO",
        "colab_type": "code",
        "colab": {
          "base_uri": "https://localhost:8080/",
          "height": 425
        },
        "outputId": "aa88438e-d62c-48f7-a0d7-57599f67de2f"
      },
      "source": [
        "model.fit(x_train , y_train , batch_size=batch_size, epochs=epochs, verbose = 2, validation_data=(x_test,y_test))\n",
        "score = model.evaluate(x_test,y_test,verbose = 0)"
      ],
      "execution_count": 15,
      "outputs": [
        {
          "output_type": "stream",
          "text": [
            "Epoch 1/12\n",
            "469/469 - 1s - loss: 0.3588 - accuracy: 0.9053 - val_loss: 0.1518 - val_accuracy: 0.9594\n",
            "Epoch 2/12\n",
            "469/469 - 1s - loss: 0.1355 - accuracy: 0.9616 - val_loss: 0.0977 - val_accuracy: 0.9722\n",
            "Epoch 3/12\n",
            "469/469 - 1s - loss: 0.0983 - accuracy: 0.9721 - val_loss: 0.0789 - val_accuracy: 0.9763\n",
            "Epoch 4/12\n",
            "469/469 - 1s - loss: 0.0831 - accuracy: 0.9763 - val_loss: 0.0676 - val_accuracy: 0.9784\n",
            "Epoch 5/12\n",
            "469/469 - 1s - loss: 0.0742 - accuracy: 0.9784 - val_loss: 0.0608 - val_accuracy: 0.9792\n",
            "Epoch 6/12\n",
            "469/469 - 1s - loss: 0.0680 - accuracy: 0.9802 - val_loss: 0.0607 - val_accuracy: 0.9801\n",
            "Epoch 7/12\n",
            "469/469 - 1s - loss: 0.0628 - accuracy: 0.9806 - val_loss: 0.0547 - val_accuracy: 0.9813\n",
            "Epoch 8/12\n",
            "469/469 - 1s - loss: 0.0584 - accuracy: 0.9822 - val_loss: 0.0534 - val_accuracy: 0.9823\n",
            "Epoch 9/12\n",
            "469/469 - 1s - loss: 0.0552 - accuracy: 0.9829 - val_loss: 0.0538 - val_accuracy: 0.9820\n",
            "Epoch 10/12\n",
            "469/469 - 1s - loss: 0.0526 - accuracy: 0.9837 - val_loss: 0.0521 - val_accuracy: 0.9829\n",
            "Epoch 11/12\n",
            "469/469 - 1s - loss: 0.0487 - accuracy: 0.9851 - val_loss: 0.0495 - val_accuracy: 0.9830\n",
            "Epoch 12/12\n",
            "469/469 - 1s - loss: 0.0464 - accuracy: 0.9859 - val_loss: 0.0499 - val_accuracy: 0.9833\n"
          ],
          "name": "stdout"
        }
      ]
    },
    {
      "cell_type": "code",
      "metadata": {
        "id": "I9UELMYEmq_A",
        "colab_type": "code",
        "colab": {}
      },
      "source": [
        "#adding 1 more conv , dropout and dense layers\n",
        "model = Sequential()\n",
        "model.add(Conv2D(32, kernel_size=(3, 3),\n",
        "                 activation='relu',\n",
        "                 input_shape=input_shape))\n",
        "model.add(Conv2D(64, (3, 3), activation='relu'))\n",
        "model.add(MaxPooling2D(pool_size=(2, 2)))\n",
        "model.add(Dropout(0.25))\n",
        "model.add(Flatten())\n",
        "model.add(Dense(128, activation='relu'))\n",
        "model.add(Dropout(0.5))\n",
        "model.add(Dense(num_classes, activation='softmax'))\n",
        "model.compile(loss='categorical_crossentropy', optimizer='adam',\n",
        "              metrics=['accuracy'])"
      ],
      "execution_count": 16,
      "outputs": []
    },
    {
      "cell_type": "code",
      "metadata": {
        "id": "pfAHuuodnGyU",
        "colab_type": "code",
        "colab": {
          "base_uri": "https://localhost:8080/",
          "height": 425
        },
        "outputId": "d471ce60-bb92-4bf5-db88-32aaeaf5327f"
      },
      "source": [
        "model.summary()"
      ],
      "execution_count": 17,
      "outputs": [
        {
          "output_type": "stream",
          "text": [
            "Model: \"sequential_3\"\n",
            "_________________________________________________________________\n",
            "Layer (type)                 Output Shape              Param #   \n",
            "=================================================================\n",
            "conv2d_3 (Conv2D)            (None, 26, 26, 32)        320       \n",
            "_________________________________________________________________\n",
            "conv2d_4 (Conv2D)            (None, 24, 24, 64)        18496     \n",
            "_________________________________________________________________\n",
            "max_pooling2d_2 (MaxPooling2 (None, 12, 12, 64)        0         \n",
            "_________________________________________________________________\n",
            "dropout_1 (Dropout)          (None, 12, 12, 64)        0         \n",
            "_________________________________________________________________\n",
            "flatten_3 (Flatten)          (None, 9216)              0         \n",
            "_________________________________________________________________\n",
            "dense_3 (Dense)              (None, 128)               1179776   \n",
            "_________________________________________________________________\n",
            "dropout_2 (Dropout)          (None, 128)               0         \n",
            "_________________________________________________________________\n",
            "dense_4 (Dense)              (None, 10)                1290      \n",
            "=================================================================\n",
            "Total params: 1,199,882\n",
            "Trainable params: 1,199,882\n",
            "Non-trainable params: 0\n",
            "_________________________________________________________________\n"
          ],
          "name": "stdout"
        }
      ]
    },
    {
      "cell_type": "code",
      "metadata": {
        "id": "6JDQ8qNnnIpK",
        "colab_type": "code",
        "colab": {
          "base_uri": "https://localhost:8080/",
          "height": 425
        },
        "outputId": "71e63fc1-fc49-4117-9155-a979e21d82fb"
      },
      "source": [
        "model.fit(x_train , y_train , batch_size=batch_size, epochs=epochs, verbose = 2, validation_data=(x_test,y_test))\n",
        "score = model.evaluate(x_test,y_test,verbose = 0)"
      ],
      "execution_count": 18,
      "outputs": [
        {
          "output_type": "stream",
          "text": [
            "Epoch 1/12\n",
            "469/469 - 3s - loss: 0.2491 - accuracy: 0.9242 - val_loss: 0.0592 - val_accuracy: 0.9803\n",
            "Epoch 2/12\n",
            "469/469 - 2s - loss: 0.0881 - accuracy: 0.9739 - val_loss: 0.0376 - val_accuracy: 0.9873\n",
            "Epoch 3/12\n",
            "469/469 - 2s - loss: 0.0674 - accuracy: 0.9795 - val_loss: 0.0360 - val_accuracy: 0.9884\n",
            "Epoch 4/12\n",
            "469/469 - 2s - loss: 0.0535 - accuracy: 0.9836 - val_loss: 0.0306 - val_accuracy: 0.9901\n",
            "Epoch 5/12\n",
            "469/469 - 3s - loss: 0.0450 - accuracy: 0.9860 - val_loss: 0.0296 - val_accuracy: 0.9910\n",
            "Epoch 6/12\n",
            "469/469 - 2s - loss: 0.0404 - accuracy: 0.9872 - val_loss: 0.0253 - val_accuracy: 0.9911\n",
            "Epoch 7/12\n",
            "469/469 - 2s - loss: 0.0357 - accuracy: 0.9890 - val_loss: 0.0273 - val_accuracy: 0.9918\n",
            "Epoch 8/12\n",
            "469/469 - 2s - loss: 0.0304 - accuracy: 0.9904 - val_loss: 0.0272 - val_accuracy: 0.9918\n",
            "Epoch 9/12\n",
            "469/469 - 2s - loss: 0.0297 - accuracy: 0.9902 - val_loss: 0.0281 - val_accuracy: 0.9917\n",
            "Epoch 10/12\n",
            "469/469 - 2s - loss: 0.0269 - accuracy: 0.9913 - val_loss: 0.0298 - val_accuracy: 0.9919\n",
            "Epoch 11/12\n",
            "469/469 - 2s - loss: 0.0238 - accuracy: 0.9922 - val_loss: 0.0275 - val_accuracy: 0.9916\n",
            "Epoch 12/12\n",
            "469/469 - 2s - loss: 0.0215 - accuracy: 0.9928 - val_loss: 0.0294 - val_accuracy: 0.9918\n"
          ],
          "name": "stdout"
        }
      ]
    },
    {
      "cell_type": "code",
      "metadata": {
        "id": "5rVOoMQanfvv",
        "colab_type": "code",
        "colab": {
          "base_uri": "https://localhost:8080/",
          "height": 51
        },
        "outputId": "af05f9b7-b878-439f-9f4a-76571321a527"
      },
      "source": [
        "model.evaluate(x_test,y_test)"
      ],
      "execution_count": 19,
      "outputs": [
        {
          "output_type": "stream",
          "text": [
            "313/313 [==============================] - 1s 2ms/step - loss: 0.0294 - accuracy: 0.9918\n"
          ],
          "name": "stdout"
        },
        {
          "output_type": "execute_result",
          "data": {
            "text/plain": [
              "[0.02940916083753109, 0.9918000102043152]"
            ]
          },
          "metadata": {
            "tags": []
          },
          "execution_count": 19
        }
      ]
    }
  ]
}